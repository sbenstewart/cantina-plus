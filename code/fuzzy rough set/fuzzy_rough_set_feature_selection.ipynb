{
  "nbformat": 4,
  "nbformat_minor": 0,
  "metadata": {
    "colab": {
      "name": "fuzzy-rough-set-feature-selection.ipynb",
      "provenance": [],
      "toc_visible": true,
      "authorship_tag": "ABX9TyMo4GkeJl66usEOCa0el0vf",
      "include_colab_link": true
    },
    "kernelspec": {
      "name": "python3",
      "display_name": "Python 3"
    }
  },
  "cells": [
    {
      "cell_type": "markdown",
      "metadata": {
        "id": "view-in-github",
        "colab_type": "text"
      },
      "source": [
        "<a href=\"https://colab.research.google.com/github/rajvijay68/fuzzy-rough-set-feature-selection/blob/master/fuzzy_rough_set_feature_selection.ipynb\" target=\"_parent\"><img src=\"https://colab.research.google.com/assets/colab-badge.svg\" alt=\"Open In Colab\"/></a>"
      ]
    },
    {
      "cell_type": "markdown",
      "metadata": {
        "id": "BUeYb3WIs9x2",
        "colab_type": "text"
      },
      "source": [
        "# Instance selection"
      ]
    },
    {
      "cell_type": "code",
      "metadata": {
        "id": "kJ0C2UNbr46d",
        "colab_type": "code",
        "colab": {}
      },
      "source": [
        "MAX_INT = 10\n",
        "\n",
        "import math\n",
        "from pprint import pprint as pp\n",
        "from heapq import *\n",
        "\n",
        "class InstanceSelection:\n",
        "\t\"\"\"\n",
        "\tA class to model pipeline for selecting representative instances\n",
        "\tof a given dataset\n",
        "\n",
        "\tAttirbutes\n",
        "\t-----------\n",
        "\tdataset_matrix : a 2-D matrix of real numbers\n",
        "\tnrows\t\t   : no. of rows in the dataset \n",
        "\tncols\t\t   : no. of columns in the dataset\n",
        "\tfuzzy_relation_matrix : a 2-D matrix with fuzzy relation values\n",
        "\tlower_approx_matrix : a 1-D list of lower approximation values of each instance\n",
        "\tvisited\t\t\t: to keep track of processed instances while finding rule covering\n",
        "\trepresentative_instances_list : a list of list of representative instances of the dataset \n",
        "\n",
        "\n",
        "\tMethods\n",
        "\t------------\n",
        "\t_init_params():\n",
        "\t\tInitializes various parameters\n",
        "\n",
        "\t_get_relation_value(val_i,val_j)\n",
        "\t\tCalculates fuzzy relation value  \n",
        "\n",
        "\t_is_instance_covered(row_index_i,row_index_j)\n",
        "\t\tTells if an instance is covered by a fuzzy rule\n",
        "\n",
        "\tcompute_fuzzy_relations()\n",
        "\t\tComputes fuzzy relation matrix\n",
        "\n",
        "\tcompute_lower_approximation()\n",
        "\t\tComputes Lower approximation matrix\n",
        "\n",
        "\t_init_count_rule()\n",
        "\t\tCounts the number of instances covered by each rule\n",
        "\n",
        "\tfind_rule_covering()\n",
        "\t\tFinds which instances are covered by which rule and\n",
        "\t\twhich rules cover which instances\n",
        "\n",
        "\tfind_representative_instances()\n",
        "\t\treturns a set of list of instances which are representative of the dataset\n",
        "\n",
        "\tapply()\n",
        "\t\tcalls all the functions \n",
        "\t\"\"\"\n",
        "\n",
        "\tdef __init__(self, dataset_matrix):\n",
        "\t\t# print(\"Initialising instance..\")\n",
        "\t\tself.dataset_matrix = dataset_matrix\n",
        "\t\tself.ncols = len(self.dataset_matrix[0])\n",
        "\t\tself.nrows = len(self.dataset_matrix)\n",
        "\t\tself.rep_list = []\n",
        "\t\tself.representative_instances_list = []\n",
        "\t\tself._init_params()\n",
        "\n",
        "\tdef _init_params(self):\n",
        "\t\t# print(\"Initialising parameters..\")\n",
        "\t\tself.fuzzy_relation_matrix = [[MAX_INT] * self.nrows for i in range(self.nrows)]\n",
        "\t\tself.rule_instances_mapping = [[] for i in range(self.nrows)]\n",
        "\t\tself.instance_rules_mapping = [[] for i in range(self.nrows)]\n",
        "\t\tself.lower_approx_matrix = [MAX_INT for i in range(self.nrows)]\n",
        "\t\tself.visited = [False]*self.nrows\n",
        "\n",
        "\tdef _get_relation_value(self, vali, valj):\n",
        "\t\treturn (1 - abs(vali - valj))\n",
        "\n",
        "\tdef _is_instance_covered(self, row_indi, row_indj):\n",
        "\t\tif (1 - self.fuzzy_relation_matrix[row_indi][row_indj]) < self.lower_approx_matrix[row_indi]:\n",
        "\t\t\treturn True\n",
        "\t\treturn False\n",
        "\n",
        "\tdef compute_fuzzy_relations(self, attr_index_list = None):\n",
        "\t\tself._init_params()\n",
        "\t\t#print(\"In compute_fuzzy_relations..\")\n",
        "\t\tif not attr_index_list:\n",
        "\t\t\tattr_index_list = set(list(range(self.ncols-1)))\n",
        "\t\tfor i in range(self.nrows):\n",
        "\t\t\tfor j in range(i,self.nrows):\n",
        "\t\t\t\tfor k in attr_index_list:\n",
        "\t\t\t\t\tself.fuzzy_relation_matrix[i][j] = self.fuzzy_relation_matrix[j][i] = min(self.fuzzy_relation_matrix[i][j], \n",
        "\t\t\t\t\t\t\t\tself._get_relation_value(self.dataset_matrix[i][k], self.dataset_matrix[j][k]))\n",
        "\t\t\t\t\t# 3.99999999999999999999 -> 4.00 so that comparison is correct\n",
        "\t\t\t\t\tself.fuzzy_relation_matrix[i][j] = self.fuzzy_relation_matrix[j][i] = round(self.fuzzy_relation_matrix[i][j], 2)\n",
        "\t\n",
        "\tdef compute_lower_approximation(self):\n",
        "\t\t#print(\"In compute_lower_approximation\")\n",
        "\t\tfor row in range(self.nrows):\n",
        "\t\t\tfor col in range(self.nrows):\n",
        "\t\t\t\ti_label = int(self.dataset_matrix[row][self.ncols-1])\n",
        "\t\t\t\tj_label = int(self.dataset_matrix[col][self.ncols-1])\n",
        "\n",
        "\t\t\t\tdiff_class = 0\n",
        "\t\t\t\tif(i_label != j_label):\n",
        "\t\t\t\t\tdiff_class = 1\n",
        "\n",
        "\t\t\t\tself.lower_approx_matrix[row] = min(self.lower_approx_matrix[row], max(1 - self.fuzzy_relation_matrix[row][col], 1 - diff_class))\n",
        "\n",
        "\t\t\tself.lower_approx_matrix[row] = round(self.lower_approx_matrix[row], 2)\n",
        "\n",
        "\n",
        "\tdef _init_count_rule(self):\n",
        "\t\tself.rule_instances_count = []\n",
        "\t\tfor rule in range(self.nrows):\n",
        "\t\t\tself.rule_instances_count.append(len(self.rule_instances_mapping[rule]))\n",
        "\n",
        "\tdef find_rule_covering(self):\n",
        "\t\t# print(\"In find_rule_covering\")\n",
        "\t\tfor rowi in range(self.nrows):\n",
        "\t\t\tfor rowj in range(self.nrows):\n",
        "\t\t\t\tif self._is_instance_covered(rowi, rowj):\n",
        "\t\t\t\t\tself.rule_instances_mapping[rowi].append(rowj)\n",
        "\t\t\t\t\tself.instance_rules_mapping[rowj].append(rowi)\n",
        "\n",
        "\t\tself._init_count_rule()\n",
        "\n",
        "\tdef find_representative_instances(self):\n",
        "\t\tif(len(self.representative_instances_list)>0):\n",
        "\t\t\treturn\n",
        "\n",
        "\t\tall_done = True\n",
        "\t\tfor rule, done in enumerate(self.visited):\n",
        "\t\t\tif not done:\n",
        "\t\t\t\tall_done = False\n",
        "\t\t\t\tbreak\n",
        "\n",
        "\t\tif all_done:\n",
        "\t\t\tsorted_rep_list = sorted(self.rep_list)\n",
        "\t\t\tif sorted_rep_list not in self.representative_instances_list:\n",
        "\t\t\t\tself.representative_instances_list.append(sorted_rep_list)\n",
        "\t\t\treturn\n",
        "\n",
        "\t\tmax_count = -1\n",
        "\n",
        "\t\tfor rule, count in enumerate(self.rule_instances_count):\n",
        "\t\t\tif not self.visited[rule]:\n",
        "\t\t\t\tmax_count = max(max_count, count)\n",
        "\n",
        "\t\tmax_count_list = []\n",
        "\n",
        "\t\tfor rule, count in enumerate(self.rule_instances_count):\n",
        "\t\t\tif count == max_count and not self.visited[rule]:\n",
        "\t\t\t\tmax_count_list.append(rule)\n",
        "\n",
        "\t\tfor rule in max_count_list:\n",
        "\t\t\tself.visited[rule] = True\n",
        "\t\t\tself.rep_list.append(rule)\n",
        "\t\t\tfor adj_rule in self.rule_instances_mapping[rule]:\n",
        "\t\t\t\tself.visited[adj_rule] = True\n",
        "\n",
        "\t\t\tself.find_representative_instances()\n",
        "\t\t\tif(len(self.representative_instances_list)>0):\n",
        "\t\t\t\treturn\n",
        "\t\t\tfor adj_rule in self.rule_instances_mapping[rule]:\n",
        "\t\t\t\tself.visited[adj_rule] = False\n",
        "\t\t\tself.visited[rule] = False\n",
        "\t\t\tself.rep_list.pop()\n",
        "\n",
        "\tdef apply(self):\n",
        "\t\tself.compute_fuzzy_relations()\n",
        "\t\tself.compute_lower_approximation()\n",
        "\t\tself.find_rule_covering()\n",
        "\t\tself.find_representative_instances()\n",
        "\t\tself.visited = [False]*self.nrows\n",
        "\t\n",
        "\tdef debug(self):\n",
        "\t\tpass"
      ],
      "execution_count": 0,
      "outputs": []
    },
    {
      "cell_type": "markdown",
      "metadata": {
        "id": "Hp8EZ9lmtCRE",
        "colab_type": "text"
      },
      "source": [
        "# Feature selection"
      ]
    },
    {
      "cell_type": "code",
      "metadata": {
        "id": "VJFWm1O8r9K6",
        "colab_type": "code",
        "colab": {}
      },
      "source": [
        "class FeatureSelection:\n",
        "    def __init__(self, rep_instances_set):\n",
        "        self.rep_feature_set = set() #B\n",
        "        self.threshold = -1\n",
        "        self.rep_instances_set = rep_instances_set\n",
        "\n",
        "    def _get_instance_based_dependency_val(self, instance_selection_obj, attr_set):\n",
        "        # print(\"ATTR SET : \",attr_set)\n",
        "        #pp(instance_selection_obj.fuzzy_relation_matrix)\n",
        "        instance_selection_obj.compute_fuzzy_relations(attr_set)\n",
        "        #pp(instance_selection_obj.fuzzy_relation_matrix)\n",
        "        instance_selection_obj.compute_lower_approximation()\n",
        "        pos_sum = 0\n",
        "        for instance in self.rep_instances_set:\n",
        "            pos_sum += instance_selection_obj.lower_approx_matrix[instance]\n",
        "        gamma_star_b = pos_sum/instance_selection_obj.nrows\n",
        "        return gamma_star_b\n",
        "\n",
        "\n",
        "\n",
        "    def find_rep_feature_set(self, instance_selection_obj):\n",
        "        nattr = instance_selection_obj.ncols-1\n",
        "        all_attr_set = set(list(range(nattr))) #A\n",
        "        gamma_star_a = self._get_instance_based_dependency_val(instance_selection_obj, all_attr_set)\n",
        "        gamma_star_a = round(gamma_star_a, 4)\n",
        "        while self.threshold < gamma_star_a:\n",
        "            rem_attr = all_attr_set.difference(self.rep_feature_set)\n",
        "            max_gamma_star = -1\n",
        "            best_attr = None\n",
        "            for attr in rem_attr:\n",
        "                self.rep_feature_set.add(attr)\n",
        "                gamma_star = self._get_instance_based_dependency_val(instance_selection_obj, self.rep_feature_set)\n",
        "                gamma_star = round(gamma_star, 4)\n",
        "                # print(\"Gamma star : \",gamma_star,attr)\n",
        "                if max_gamma_star < gamma_star and gamma_star >= self.threshold:\n",
        "                    max_gamma_star = gamma_star\n",
        "                    best_attr = attr\n",
        "                self.rep_feature_set.discard(attr)\n",
        "            if best_attr is None:\n",
        "                return\n",
        "            self.rep_feature_set.add(best_attr)\n",
        "            # print(best_attr+1, \" IS SELECTED\")\n",
        "            self.threshold = max_gamma_star\n",
        "    \n",
        "    def apply(self, instance_selection_obj):\n",
        "        self.find_rep_feature_set(instance_selection_obj)"
      ],
      "execution_count": 0,
      "outputs": []
    },
    {
      "cell_type": "markdown",
      "metadata": {
        "id": "nG4CJm-WtcKU",
        "colab_type": "text"
      },
      "source": [
        "# Importing algorithms to test"
      ]
    },
    {
      "cell_type": "code",
      "metadata": {
        "id": "YWrwcHsKqgpb",
        "colab_type": "code",
        "colab": {},
        "cellView": "both"
      },
      "source": [
        "from sklearn.linear_model import LinearRegression,LogisticRegression\n",
        "from sklearn.svm import SVC\n",
        "from sklearn.tree import DecisionTreeClassifier,DecisionTreeRegressor\n",
        "from sklearn.model_selection import train_test_split\n",
        "from sklearn.metrics import accuracy_score,f1_score,precision_score,recall_score\n",
        "from sklearn.neighbors import KNeighborsClassifier\n",
        "from sklearn.naive_bayes import GaussianNB\n",
        "\n",
        "from sklearn.ensemble import (\n",
        "    BaggingClassifier,BaggingRegressor,\n",
        "    RandomForestClassifier,RandomForestRegressor,\n",
        "    AdaBoostClassifier,AdaBoostRegressor,\n",
        "    GradientBoostingClassifier,GradientBoostingRegressor\n",
        ")\n",
        "\n",
        "import warnings\n",
        "warnings.filterwarnings('ignore') "
      ],
      "execution_count": 0,
      "outputs": []
    },
    {
      "cell_type": "code",
      "metadata": {
        "id": "qpjHJAhxrDe0",
        "colab_type": "code",
        "colab": {}
      },
      "source": [
        "models = [\n",
        "    DecisionTreeClassifier(max_depth=3),\n",
        "    KNeighborsClassifier(n_neighbors=5),\n",
        "    SVC(C=1.0),\n",
        "    GaussianNB(),\n",
        "    LogisticRegression(),\n",
        "    BaggingClassifier(),\n",
        "    RandomForestClassifier(),\n",
        "    AdaBoostClassifier(),\n",
        "    GradientBoostingClassifier()\n",
        "]"
      ],
      "execution_count": 0,
      "outputs": []
    },
    {
      "cell_type": "code",
      "metadata": {
        "id": "E7YIYiAUrd7m",
        "colab_type": "code",
        "colab": {}
      },
      "source": [
        "def test_model(data,target,model):\n",
        "    train_x,test_x,train_y,test_y = train_test_split(data,target,test_size=0.2,stratify=target,random_state=0)\n",
        "    model.fit(train_x,train_y)\n",
        "    predictions = model.predict(test_x)\n",
        "    accuracy = accuracy_score(predictions,test_y)\n",
        "    precision = precision_score(predictions,test_y,average='micro')\n",
        "    recall = recall_score(predictions,test_y,average='micro')\n",
        "    f1 = f1_score(predictions,test_y,average='micro')\n",
        "    \n",
        "    \n",
        "    return accuracy,precision,recall,f1"
      ],
      "execution_count": 0,
      "outputs": []
    },
    {
      "cell_type": "code",
      "metadata": {
        "id": "rmxrW6NSrsf5",
        "colab_type": "code",
        "colab": {}
      },
      "source": [
        "import sys\n",
        "\n",
        "import pandas as pd \n",
        "from sklearn.preprocessing import LabelEncoder\n",
        "from sklearn.preprocessing import MinMaxScaler,StandardScaler\n",
        "import matplotlib.pyplot as plt\n",
        "import time\n",
        "\n",
        "import numpy as np \n",
        "np.random.seed(0)"
      ],
      "execution_count": 0,
      "outputs": []
    },
    {
      "cell_type": "markdown",
      "metadata": {
        "id": "tgXAHLiOtGov",
        "colab_type": "text"
      },
      "source": [
        "# Testing on Iris dataset"
      ]
    },
    {
      "cell_type": "code",
      "metadata": {
        "id": "DeVtuF1XsiSS",
        "colab_type": "code",
        "colab": {}
      },
      "source": [
        "data = pd.read_csv(\"sample_data/iris.csv\")\n",
        "labelEncoder = LabelEncoder()\n",
        "minMaxscaler = MinMaxScaler()\n",
        "standardScaler= StandardScaler()\n",
        "\n",
        "#Iris dataset has categorical labels.\n",
        "data[\"species\"] = labelEncoder.fit_transform(data[\"species\"])\n",
        "data.iloc[:,:-1] = standardScaler.fit_transform(data.iloc[:,:-1])\n",
        "\n",
        "data = np.asarray(data)\n",
        "time_taken = {}"
      ],
      "execution_count": 0,
      "outputs": []
    },
    {
      "cell_type": "code",
      "metadata": {
        "id": "SyMOLeLJre65",
        "colab_type": "code",
        "colab": {
          "base_uri": "https://localhost:8080/",
          "height": 208
        },
        "outputId": "deaee666-a4d9-48f3-cf5f-7bfe32254f09"
      },
      "source": [
        "MAX_ITERATIONS = len(data)\n",
        "\n",
        "for size in range(MAX_ITERATIONS-1,MAX_ITERATIONS):\n",
        "    np.random.shuffle(data)\n",
        "    test_data = data[:size]\n",
        "    \n",
        "    start_time1 = time.time()\n",
        "    InstanceSelector = InstanceSelection(test_data)\n",
        "    InstanceSelector.apply()\n",
        "    end_time1 = time.time()\n",
        "    algo1_time = end_time1-start_time1\n",
        "\n",
        "    start_time2 = time.time()\n",
        "    feature_selection_obj = FeatureSelection(InstanceSelector.representative_instances_list[0])\n",
        "    feature_selection_obj.apply(InstanceSelector)\n",
        "    end_time2 = time.time()\n",
        "\n",
        "    representative_instances = InstanceSelector.representative_instances_list\n",
        "    feature_set = list(feature_selection_obj.rep_feature_set)\n",
        "    \n",
        "    print(\"{:27s} |{:8s}|{:8s}|{:8s}|{:8s}\".format(\"Model\",\"Accuracy\",\"Precision\",\"Recall\",\"F1-score\"))\n",
        "    print(\"-\"*65)\n",
        "    for model in models:\n",
        "        accuracy,precision,recall,f1 = test_model(data[:,feature_set],data[:,-1],model)\n",
        "        print(\"{:27s} |{:8.2f}|{:8.2f}|{:8.2f}|{:8.2f}\".format(type(model).__name__,accuracy,precision,recall,f1))"
      ],
      "execution_count": 34,
      "outputs": [
        {
          "output_type": "stream",
          "text": [
            "Model                       |Accuracy|Precision|Recall  |F1-score\n",
            "-----------------------------------------------------------------\n",
            "DecisionTreeClassifier      |    0.93|    0.93|    0.93|    0.93\n",
            "KNeighborsClassifier        |    0.93|    0.93|    0.93|    0.93\n",
            "SVC                         |    0.93|    0.93|    0.93|    0.93\n",
            "GaussianNB                  |    0.93|    0.93|    0.93|    0.93\n",
            "LogisticRegression          |    0.90|    0.90|    0.90|    0.90\n",
            "BaggingClassifier           |    0.93|    0.93|    0.93|    0.93\n",
            "RandomForestClassifier      |    0.93|    0.93|    0.93|    0.93\n",
            "AdaBoostClassifier          |    0.93|    0.93|    0.93|    0.93\n",
            "GradientBoostingClassifier  |    0.93|    0.93|    0.93|    0.93\n"
          ],
          "name": "stdout"
        }
      ]
    },
    {
      "cell_type": "code",
      "metadata": {
        "id": "CuQTki3rscVG",
        "colab_type": "code",
        "colab": {}
      },
      "source": [
        ""
      ],
      "execution_count": 0,
      "outputs": []
    }
  ]
}